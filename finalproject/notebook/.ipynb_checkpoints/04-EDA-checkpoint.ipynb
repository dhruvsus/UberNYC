version https://git-lfs.github.com/spec/v1
oid sha256:d99faf428dd5c8b7483bdaa0d67dbaf88c1dbb27a9a891505430d0c9efd1a027
size 620300
