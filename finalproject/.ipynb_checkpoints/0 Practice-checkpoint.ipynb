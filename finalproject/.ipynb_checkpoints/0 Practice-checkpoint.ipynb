version https://git-lfs.github.com/spec/v1
oid sha256:cb74c21751ee7b6bd30ab25cb5c65b98901778a10af8d046413a1d85eecdc45f
size 41386
