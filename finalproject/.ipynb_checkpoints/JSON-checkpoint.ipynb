version https://git-lfs.github.com/spec/v1
oid sha256:1b0bcfe783133a8f15203f12fdb92669310e911da27eb15bddb20f538ac43a7c
size 4604
