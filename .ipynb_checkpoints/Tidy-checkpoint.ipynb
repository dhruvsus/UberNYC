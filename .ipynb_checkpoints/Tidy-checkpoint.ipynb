version https://git-lfs.github.com/spec/v1
oid sha256:c47bd8bf2ae0fff19276bdd215b3fed065c5a5ab92e92a692f4509d52164ef8e
size 12971
