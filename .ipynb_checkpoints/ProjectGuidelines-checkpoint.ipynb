version https://git-lfs.github.com/spec/v1
oid sha256:cdb83740101aec2372cdff91bf784e28a5a7ccc19d87395aa8cb49b0bcc131d7
size 10972
